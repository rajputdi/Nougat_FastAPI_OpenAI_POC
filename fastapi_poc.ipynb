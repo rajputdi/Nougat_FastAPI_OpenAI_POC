{
 "cells": [
  {
   "cell_type": "code",
   "execution_count": 2,
   "metadata": {},
   "outputs": [],
   "source": [
    "from fastapi import FastAPI, HTTPException, Request\n",
    "import requests\n",
    "from PyPDF2 import PdfFileReader\n",
    "from io import BytesIO\n",
    "\n",
    "app = FastAPI()\n",
    "\n",
    "@app.post(\"/extract-text/\")\n",
    "async def extract_text(request: Request):\n",
    "    data = await request.json()\n",
    "    url = data.get(\"url\")\n",
    "    library_choice = data.get(\"library\")\n",
    "\n",
    "    # Validate the URL and library choice\n",
    "    if not url or not library_choice:\n",
    "        raise HTTPException(status_code=400, detail=\"Invalid input\")\n",
    "\n",
    "    # Fetch the PDF\n",
    "    response = requests.get(url)\n",
    "    if response.status_code != 200:\n",
    "        raise HTTPException(status_code=400, detail=\"Failed to retrieve PDF\")\n",
    "\n",
    "    pdf_bytes = BytesIO(response.content)\n",
    "\n",
    "    # Extract text using PyPDF2 (Nougat can be added in a similar way)\n",
    "    if library_choice == \"pypdf\":\n",
    "        pdf_reader = PdfFileReader(pdf_bytes)\n",
    "        text = \"\"\n",
    "        for page_num in range(len(pdf_reader.pages)):\n",
    "            page = pdf_reader.pages[page_num]\n",
    "            text += page.extract_text()\n",
    "    else:\n",
    "        raise HTTPException(status_code=400, detail=\"Invalid library choice\")\n",
    "\n",
    "    return {\"text\": text}"
   ]
  },
  {
   "cell_type": "code",
   "execution_count": null,
   "metadata": {},
   "outputs": [],
   "source": []
  }
 ],
 "metadata": {
  "kernelspec": {
   "display_name": "Python 3",
   "language": "python",
   "name": "python3"
  },
  "language_info": {
   "codemirror_mode": {
    "name": "ipython",
    "version": 3
   },
   "file_extension": ".py",
   "mimetype": "text/x-python",
   "name": "python",
   "nbconvert_exporter": "python",
   "pygments_lexer": "ipython3",
   "version": "3.11.3"
  }
 },
 "nbformat": 4,
 "nbformat_minor": 2
}
