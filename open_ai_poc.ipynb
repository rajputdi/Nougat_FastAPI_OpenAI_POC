{
 "cells": [
  {
   "cell_type": "code",
   "execution_count": 42,
   "metadata": {},
   "outputs": [],
   "source": [
    "extracted_text = '''\n",
    "UNITED STATES SECURITIES AND EXCHANGE COMMISSION Washington, DC 20549 FORM 3 INITIAL STATEMENT OF BENEFICIAL OWNERSHIP OF SECURITIES The Commission is authorized to solicit the information required by this Form pursuant to Sections 16(a) and 23(a) of the Securities Exchange Act of 1934, and Sections 30(h) and 38 of the Investment Company Act of 1940, and the rules and regulations thereunder. Disclosure of information specified on this form is mandatory. The information will be used for the pri- mary purpose of disclosing the holdings of directors, officers, and beneficial owners of registered com-panies. Information disclosed will be a matter of public record and available for inspection by members of the public. The Commission can use it in investigations or litigation involving the federal securities laws or other civil, criminal, or regulatory statutes or provisions, as well as for referral to other govern-mental authorities and self-regulatory organizations. Failure to disclose required information may result in civil or criminal action against persons involved for violations of the federal securities laws and rules. Potential persons who are to respond to the collection of information contained in this form are not required to respond unless the form displaysa currently valid OMB control number. SEC 1472 (05-19) GENERAL INSTRUCTIONS\n",
    "\n",
    "Who Must File (a) This Form must be filed by the following persons (“reporting person”): (i) any director or officer of an issuer with a class of equity securities registered pursuant to Section 12 of the Securities Exchange Act of 1934 (“Exchange Act”); ( Note : Title is not determinative for purposes of determining “officer” status. See Rule 16a-1(f) for the definition of “officer”); (ii) any beneficial owner of greater than 10f a class of equity securities registered under Section 12 of the Exchange Act, as determined by voting or investment control over the securities pursuant to Rule 16a-1(a)(l) (“ten percent holder”); (iii) Removed and Reserved. (iv) any officer, director, member of an advisory board, investment adviser, affiliated person of an investment adviser or beneficial owner of more than 10% of any class of outstanding securities (other than short-term paper) of a registered closed-end investment company, under Section 30(h) of the Investment Company Act of 1940; and (v) any trust, trustee, beneficiary or settlor required to report pursuant to Rule 16a-8. (b) If a reporting person is not an officer, director, or ten percent holder, the person should check “other” in Item 5 (Relationship of Reporting Person to Issuer) and describe the reason for reporting status in the space provided. (c) If a person described above does not beneficially own any securities required to be reported ( See Rule 16a-1 and Instruction 5), the person is required to file this Form and state that no securities are beneficially owned.\n",
    "When Form Must be Filed (a) This Form must be filed within 10 days after the event by which the person becomes a reporting person ( i.e., officer, director, ten percent holder or other person). This Form and any amendment is deemed filed with the Commission or the Exchange on the date it is received by the Commission or the Exchange, respectively. See, however, Rule 16a-3(h) regarding delivery to a third party business that guarantees delivery of the filing no later than the specified due date. (b) A reporting person of an issuer that is registering securities for the first time under Section 12 of the Exchange Act must file this Form no later than the effective date of the registration statement. (c) A separate Form shall be filed to reflect beneficial ownership of securities of each issuer.\n",
    "Where Form Must be Filed (a) A reporting person must file this Form in electronic format via the Commission’s Electronic Data Gathering Analysis and Retrieval System (EDGAR) in accordance with EDGAR rules set forth in Regulation S-T (17 CFR Part 232), except that a filing person that has obtained a hardship exception under Regulation S-T Rule 202 (17 CFR 232.202) may file the Form in paper. For assistance with technical questions about EDGAR or to request an access code, call the EDGAR Filer Support Office at (202) 942-8900. For assistance with questions about the EDGAR rules, call the Office of EDGAR and Information Analysis at (202) 942-2940. (b) At the time this Form or any amendment is filed with the Commission, file one copy with each Exchange on which any class of securities of the issuer is registered. If the issuer has designated a single Exchange to receive Section 16 filin gs, the copy shall be filed with that Exchange only. 2\n",
    "(c) [Removed and Reserved] 4. Class of Securities Reported (a) (i) Persons reporting pursuant to Section 16(a) of the Exchange Act shall include information as to their beneficial ownership of any class of equity securities of the issuer, even though one or more of such classes may not be registered pursuant to Section 12 of the Act. (ii) Removed and Reserved. (iii) Persons reporting pursuant to Section 30(h) of the Investment Company Act of 1940 shall include information as to their beneficial ownership of any class of securities (equity or debt) of the registered closed-end investment company (other than “short-term paper” as defined in Section 2(a)(38) of the Investment Company Act). (b) The title of the security should clearly identify the class, even if the issuer has only one class of securities outstanding;for example, “Common Stock,” “Class A Common Stock,” “Class B Convertible Preferred Stock,” etc. (c) The amount of securities beneficially owned should state the face amount of debt securities (U.S. Dollars) or the number of equity securities, whichever is appropriate.\n",
    "\n",
    "Holdings Required to be Reported (a) General Requirements . Report holdings of each class of securities of the issuer beneficially owned as of the date of the event requiring the filing of this Form. See Instruction 4 as to securities required to be reported. (b) Beneficial Ownership Reported (Pecuniary Interest) . (i) Although for purposes of determining status as a ten percent holder, a person is deemed to beneficially own securities over which that person has voting or investment control (see Rule 16a-1(a)(1)), for reporting purposes, a person is deemed to be the beneficial owner of securities if that person has or shares the opportunity, directly or indirectly, to profit or share in any profit derived from a transaction in the securities (“pecuniary interest”). See Rule 16a-1(a)(2). See also Rule 16 a-8 for the application of the beneficial ownership definition to trust holdings and transactions. (ii) Both direct and indirect beneficial ownership of securities shall be reported. Securities beneficially owned directly are those held in the reporting person’s name or in the name of a bank, broker or nominee for the account of the reporting person. In addition, securities held as joint tenants, tenants in common, tenants by the entirety, or as community property are to be reported as held directly. If a person has a pecuniary interest, by reason of any contract, understanding or relationship (including a family relationship or arrangement) in securities held in the name of another person, that person is an indirect beneficial owner of those securities. See Rule 16a-1(a)(2)(ii) for certain indirect beneficial ownerships. (iii) Report securities beneficially owned directly on a separate line from those beneficially owned indirectly. Report different forms of indirect ownership on separate lines. The nature of indirect ownership shall be stated as specificall y as possible; for example, “By Self as Trustee for X,” “By Spouse,” “By X Trust,” “By Y Corporation,” etc. (iv) In stating the amount of securities owned indirectly through a partnership, corporation, trust, or other entity, report the number of securities representing the reporting person’s proportionate interest in securities beneficially owned by that entity. Alternatively, at the option of the reporting person, the entire amount of the entity’s interest may be reported. See Rule 16a-1(a)(2)(ii)(B) and Rule 16a-1(a)(2)(iii). 3 (v) Where more than one person beneficially owns the same equity securities, such owners may file Form 3 individually or jointly. Joint and group filings may be made by any designated beneficial owner. Holdings of securities owned separately by any joint or group filer are permitted to be included in the joint filing. Indicate only the name and address of the designated filer in Item 1 of Form 3 and attach a list of the names and addresses of each other reporting person. Joint and gro up filings must include all required information for each beneficial owner, and such filings must be signed by each beneficial owner, or on behalf of such owner by an authorized person. If this Form is being filed in paper pursuant to a hardship exemption and the space provided for signatures is insufficient, attach a signature page. If this Form is being filed in paper, submit any attached listing of names or signatures on another Form 3, copy of Form 3 or separate page of 8 ½ by 11 inch white paper, indicate the number of pages comprising the report (Form plus attachments) at the bottom of each report page ( e.g., 1 of 3, 2 of 3, 3 of 3), and include the name of the designated filer and information required by Items 2 and 3 of the Form on the attachment. See Rule 16a-3(i) regarding signatures. (c) Non-Derivative and Derivative Securities . (i) Report non-derivative securities beneficially owned in Table I and derivative securities ( e.g., puts, calls, options, warrants, convertible securities, or other rights or obligations to buy or sell securities) beneficially owned in Table II. Derivative securities beneficially owned that are both equity securities and convertible or exchangeable for other equity securities ( e.g., convertible preferred securities) should be reported only on Table II. (ii) The title of a derivative security and the title of the equity security underlying the derivative security should be shown separately in the appropriate columns in Table II. The “puts” and “calls” reported in Table II include, in addition to separate puts and calls, any combination of the two, such as spreads and straddles. In reporting an option in Table II, state whether it represents a right to buy, a right to sell, an obligation to buy, or an obligation to sell the equity securities subject to the option. (iii) Describe in the appropriate columns in Table II characteristics of derivative securities, including title, exercise or conversion price, date exercisable, expiration date, and the title and amount of securities underlying the derivati ve security. (iv) Securities constituting components of a unit shall be reported separately on the applicable table ( e.g., if a unit has a non-derivative security component and a derivative security component, the non-derivative security component shall be reported in Table I and the derivative security component shall be reported in Table II). The relationship between individua l securities comprising the unit shall be indicated in the space provided for explanation of responses.\n",
    "Additional Information (a) If the space provided in the line items on the electronic Form is insufficient, use the space provided for footnotes. If the space provided for footnotes is insufficient, create a footnote that refers to an exhibit to the form that contains the additional information. (b) If the space provided in the line items on the paper Form or space provided for additional comments is insufficient, attach another Form 3, copy of Form 3 or separate 8 ½ by 11 inch white paper to Form 3, completed as appropriate to include the additional comments. Each attached page must include information required in Items 1, 2 and 3 of the Form. The number of pages comprising the report (Form plus attachments) shall be indicated at the bottom of each report page ( e.g., 1 of 3, 2 of 3, 3 of 3). (c) If one or more exhibits are included, whether due to a lack of space or because the exhibit is, by nature, a separate document ( e.g., a power of attorney), provide a sequentially numbered list of the exhibits in the Form. Use the number “24” for any power of attorney and the number “99” for any other exhibit. If there is more than one of either such exhibit, then use numerical subparts. If the exhibit is being filed as a confirming electronic copy under Regulation S-T Rule 202(d) (17 CFR 232.202(d)), then place the designation “CE” (confirming exhibit) next to the name of the exhibit in the exhibit list. If the e xhibit is being filed in paper pursuant to a hardship exception under Regulation S-T Rule 202 (17 CFR 232.202), then place the 4 designation “P” (paper) next to the name of the exhibit in the exhibit list. (d) If additional information is not reported as provided in paragraph (a), (b) or (c) of this instruction, whichever apply, it will be assumed that no additional information was provided.\n",
    "Signature (a) If the Form is filed for an individual, it shall be signed by that person or specifically on behalf of the individual by a person authorized to sign for the individual. If signed on behalf of the individual by another person, the authority of such person to sign the Form shall be confirmed to the Commission in writing in an attachment to the Form or as soon as practicable in an amendment by the individual for whom the Form is filed, unless such a confirmation still in effect is on file with the Commission. The confirming statement need only indicate that the reporting person authorizes and designates the named person or persons to file the Form on the reporting person’s behalf, and state the duration of the authorization. (b) If the Form is filed for a corporation, partnership, trust, or other entity, the capacity in which the individual signed shall be set forth ( e.g., John Smith, Secretary, on behalf of X Corporation).\n",
    "Amendments (a) If this Form is filed as an amendment in order to add one or more lines of ownership information to Table I or Table II of the Form being amended, provide each line being added, together with one or more footnotes, as necessary, to explain the addition of the line or lines. Do not repeat lines of ownership information that were disclosed in the original Form and are no t being amended. (b) If this Form is filed as an amendment in order to amend one or more lines of ownership information that already were disclosed in Table I or Table II of the Form being amended, provide the complete line or lines being amended, as amended, together with one or more footnotes, as necessary, to explain the amendment of the line or lines. Do not repeat lines of ownership information that were disclosed in the original Form and are not being amended. (c) If this Form is filed as an amendment for any purpose other than or in addition to the purposes described in paragraphs (a) and (b) of this General Instruction 8, provide one or more footnotes, as necessary, to explain the amendment. 5\n",
    "'''"
   ]
  },
  {
   "cell_type": "code",
   "execution_count": 43,
   "metadata": {},
   "outputs": [],
   "source": [
    "# Assuming 'extracted_text' is the text you extracted from the PDF\n",
    "context = [{\"document\": extracted_text}]\n"
   ]
  },
  {
   "cell_type": "code",
   "execution_count": 44,
   "metadata": {},
   "outputs": [
    {
     "name": "stdout",
     "output_type": "stream",
     "text": [
      "Requirement already satisfied: openai in c:\\users\\divyesh rajput\\appdata\\local\\programs\\python\\python311\\lib\\site-packages (0.28.1)\n",
      "Requirement already satisfied: requests>=2.20 in c:\\users\\divyesh rajput\\appdata\\local\\programs\\python\\python311\\lib\\site-packages (from openai) (2.31.0)\n",
      "Requirement already satisfied: tqdm in c:\\users\\divyesh rajput\\appdata\\local\\programs\\python\\python311\\lib\\site-packages (from openai) (4.66.1)\n",
      "Requirement already satisfied: aiohttp in c:\\users\\divyesh rajput\\appdata\\local\\programs\\python\\python311\\lib\\site-packages (from openai) (3.8.6)\n",
      "Requirement already satisfied: charset-normalizer<4,>=2 in c:\\users\\divyesh rajput\\appdata\\local\\programs\\python\\python311\\lib\\site-packages (from requests>=2.20->openai) (2.1.1)\n",
      "Requirement already satisfied: idna<4,>=2.5 in c:\\users\\divyesh rajput\\appdata\\local\\programs\\python\\python311\\lib\\site-packages (from requests>=2.20->openai) (3.4)\n",
      "Requirement already satisfied: urllib3<3,>=1.21.1 in c:\\users\\divyesh rajput\\appdata\\local\\programs\\python\\python311\\lib\\site-packages (from requests>=2.20->openai) (1.26.13)\n",
      "Requirement already satisfied: certifi>=2017.4.17 in c:\\users\\divyesh rajput\\appdata\\local\\programs\\python\\python311\\lib\\site-packages (from requests>=2.20->openai) (2022.12.7)\n",
      "Requirement already satisfied: attrs>=17.3.0 in c:\\users\\divyesh rajput\\appdata\\local\\programs\\python\\python311\\lib\\site-packages (from aiohttp->openai) (23.1.0)\n",
      "Requirement already satisfied: multidict<7.0,>=4.5 in c:\\users\\divyesh rajput\\appdata\\local\\programs\\python\\python311\\lib\\site-packages (from aiohttp->openai) (6.0.4)\n",
      "Requirement already satisfied: async-timeout<5.0,>=4.0.0a3 in c:\\users\\divyesh rajput\\appdata\\local\\programs\\python\\python311\\lib\\site-packages (from aiohttp->openai) (4.0.3)\n",
      "Requirement already satisfied: yarl<2.0,>=1.0 in c:\\users\\divyesh rajput\\appdata\\local\\programs\\python\\python311\\lib\\site-packages (from aiohttp->openai) (1.9.2)\n",
      "Requirement already satisfied: frozenlist>=1.1.1 in c:\\users\\divyesh rajput\\appdata\\local\\programs\\python\\python311\\lib\\site-packages (from aiohttp->openai) (1.4.0)\n",
      "Requirement already satisfied: aiosignal>=1.1.2 in c:\\users\\divyesh rajput\\appdata\\local\\programs\\python\\python311\\lib\\site-packages (from aiohttp->openai) (1.3.1)\n",
      "Requirement already satisfied: colorama in c:\\users\\divyesh rajput\\appdata\\local\\programs\\python\\python311\\lib\\site-packages (from tqdm->openai) (0.4.6)\n",
      "Note: you may need to restart the kernel to use updated packages.\n"
     ]
    },
    {
     "name": "stderr",
     "output_type": "stream",
     "text": [
      "\n",
      "[notice] A new release of pip available: 22.3.1 -> 23.2.1\n",
      "[notice] To update, run: python.exe -m pip install --upgrade pip\n"
     ]
    }
   ],
   "source": [
    "pip install openai"
   ]
  },
  {
   "cell_type": "code",
   "execution_count": 45,
   "metadata": {},
   "outputs": [],
   "source": [
    "import openai\n",
    "\n",
    "# Set up your OpenAI API key\n",
    "openai.api_key = ''\n",
    "\n",
    "# Use the Davinci model to generate questions based on the context\n",
    "response = openai.Completion.create(\n",
    "  model=\"text-davinci-002\",\n",
    "  prompt=f\"Generate 10 questions based on the following context: {extracted_text}\",\n",
    "  max_tokens=150,\n",
    "  n=10,  # Number of questions\n",
    "  stop=[\"\\n\"],  # Stop generating after each newline\n",
    "  temperature=0.7\n",
    ")\n",
    "\n",
    "questions = [item.text.strip() for item in response.choices]"
   ]
  },
  {
   "cell_type": "code",
   "execution_count": 46,
   "metadata": {},
   "outputs": [
    {
     "data": {
      "text/plain": [
       "['', '', '', '', '', '', '', '', '', '']"
      ]
     },
     "execution_count": 46,
     "metadata": {},
     "output_type": "execute_result"
    }
   ],
   "source": [
    "questions"
   ]
  },
  {
   "cell_type": "code",
   "execution_count": 47,
   "metadata": {},
   "outputs": [],
   "source": [
    "import openai\n",
    "\n",
    "# Set up your OpenAI API key\n",
    "openai.api_key = ''\n",
    "\n",
    "# Refine the prompt for better question generation\n",
    "prompt = f\"Based on the following context, generate a series of simple questions: {extracted_text}\"\n",
    "\n",
    "response = openai.Completion.create(\n",
    "  model=\"text-davinci-002\",\n",
    "  prompt=prompt,\n",
    "  max_tokens=300,  # Increase max tokens\n",
    "  n=10,  # Aim for 10 questions\n",
    "  stop=[\"\\n\"],  # Stop generating after each newline\n",
    "  temperature=0.9  # Adjust temperature for a balance between randomness and determinism\n",
    ")\n",
    "\n",
    "questions = [item.text.strip() for item in response.choices]\n",
    "\n",
    "desired_number_of_questions = 10\n",
    "# If not enough questions are generated, segment the text or use iterative question generation\n",
    "if len(questions) < desired_number_of_questions:\n",
    "    initial_question = questions[0]\n",
    "    new_prompt = f\"Based on the question '{initial_question}', generate more related questions.\"\n",
    "    \n",
    "    new_response = openai.Completion.create(\n",
    "      model=\"text-davinci-002\",\n",
    "      prompt=new_prompt,\n",
    "      max_tokens=200,\n",
    "      n=desired_number_of_questions - len(questions),\n",
    "      stop=[\"\\n\"],\n",
    "      temperature=0.8\n",
    "    )\n",
    "    \n",
    "    new_questions = [item.text.strip() for item in new_response.choices]\n",
    "    questions.extend(new_questions)\n"
   ]
  },
  {
   "cell_type": "code",
   "execution_count": 48,
   "metadata": {},
   "outputs": [
    {
     "data": {
      "text/plain": [
       "['', '', '', '', '', '', '', '', '', '']"
      ]
     },
     "execution_count": 48,
     "metadata": {},
     "output_type": "execute_result"
    }
   ],
   "source": [
    "questions"
   ]
  },
  {
   "cell_type": "code",
   "execution_count": null,
   "metadata": {},
   "outputs": [],
   "source": []
  },
  {
   "cell_type": "code",
   "execution_count": 49,
   "metadata": {},
   "outputs": [
    {
     "name": "stdout",
     "output_type": "stream",
     "text": [
      "The form 3 is a document that is used to report the beneficial ownership of securities of a registered company. The form must be filed by directors, officers, and beneficial owners of registered companies, and must be filed within 10 days of the event that caused the person to become a reporting person. The form must be filed electronically, and a copy must be filed with the exchange on which the company's securities are registered. The form must be signed by the reporting person, and must include information on the securities beneficially owned by the person.\n"
     ]
    }
   ],
   "source": [
    "import openai\n",
    "\n",
    "def summarize_text(text):\n",
    "    # Ensure you've set up your OpenAI API key\n",
    "    # openai.api_key = 'YOUR_OPENAI_API_KEY'\n",
    "    \n",
    "    # Construct a prompt for summarization\n",
    "    prompt = f\"Please summarize the following text so that a a teenage can understand what is written:\\n\\n{text}\"\n",
    "    \n",
    "    # Use the OpenAI API to get the summary\n",
    "    response = openai.Completion.create(\n",
    "        model=\"text-davinci-002\",  # You can choose other models like \"gpt-3.5-turbo\" based on your preference and API cost.\n",
    "        prompt=prompt,\n",
    "        max_tokens=150  # Adjust based on how long you want the summary to be\n",
    "    )\n",
    "    \n",
    "    return response.choices[0].text.strip()\n",
    "\n",
    "# Example usage:\n",
    "summary = summarize_text(extracted_text)\n",
    "print(summary)\n"
   ]
  },
  {
   "cell_type": "code",
   "execution_count": null,
   "metadata": {},
   "outputs": [],
   "source": []
  }
 ],
 "metadata": {
  "kernelspec": {
   "display_name": "Python 3",
   "language": "python",
   "name": "python3"
  },
  "language_info": {
   "codemirror_mode": {
    "name": "ipython",
    "version": 3
   },
   "file_extension": ".py",
   "mimetype": "text/x-python",
   "name": "python",
   "nbconvert_exporter": "python",
   "pygments_lexer": "ipython3",
   "version": "3.11.3"
  }
 },
 "nbformat": 4,
 "nbformat_minor": 2
}
